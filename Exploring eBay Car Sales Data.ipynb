{
 "cells": [
  {
   "cell_type": "markdown",
   "id": "9b54a1b5",
   "metadata": {},
   "source": [
    "# Cleaning and Analysing a Dataset of Used Cars from eBay\n",
    "\n",
    "In this project, we'll work with a modified dataset of used cars from eBay Kleinanzeigen, a classifieds section of the German eBay website.\n",
    "\n",
    "The data dictionary provided with data is as follows:\n",
    "* `dateCrawled` - When this ad was first crawled. All field-values are taken from this date.\n",
    "* `name` - Name of the car.\n",
    "* `seller` - Whether the seller is private or a dealer.\n",
    "* `offerType` - The type of listing\n",
    "* `price` - The price on the ad to sell the car.\n",
    "* `abtest`- Whether the listing is included in an A/B test.\n",
    "* `vehicleType` - The vehicle Type.\n",
    "* `yearOfRegistration` - The year in which the car was first registered.\n",
    "* `gearbox` - The transmission type.\n",
    "* `powerPS` - The power of the car in PS.\n",
    "* `model` - The car model name.\n",
    "* `odometer` - How many kilometers the car has driven.\n",
    "* `monthOfRegistration` - The month in which the car was first registered.\n",
    "* `fuelType` - What type of fuel the car uses.\n",
    "* `brand` - The brand of the car.\n",
    "* `notRepairedDamage` - If the car has a damage which is not yet repaired.\n",
    "* `dateCreated` - The date on which the eBay listing was created.\n",
    "* `nrOfPictures` - The number of pictures in the ad.\n",
    "* `postalCode` - The postal code for the location of the vehicle.\n",
    "* `lastSeenOnline` - When the crawler saw this ad last online."
   ]
  },
  {
   "cell_type": "markdown",
   "id": "a51b651d",
   "metadata": {},
   "source": [
    "Let's start by importing the libraries we need and reading the dataset into pandas."
   ]
  },
  {
   "cell_type": "code",
   "execution_count": 1,
   "id": "db07040b",
   "metadata": {},
   "outputs": [],
   "source": [
    "import pandas as pd\n",
    "import numpy as np\n",
    "\n",
    "autos = pd.read_csv('C:\\\\Users\\\\Admin\\\\Desktop\\\\Dataset\\\\autos.csv')"
   ]
  },
  {
   "cell_type": "markdown",
   "id": "6a51c740",
   "metadata": {},
   "source": [
    "We will now do some exploring thourgh the dataset."
   ]
  },
  {
   "cell_type": "code",
   "execution_count": 2,
   "id": "55868537",
   "metadata": {},
   "outputs": [
    {
     "name": "stdout",
     "output_type": "stream",
     "text": [
      "<class 'pandas.core.frame.DataFrame'>\n",
      "RangeIndex: 50000 entries, 0 to 49999\n",
      "Data columns (total 20 columns):\n",
      " #   Column               Non-Null Count  Dtype \n",
      "---  ------               --------------  ----- \n",
      " 0   dateCrawled          50000 non-null  object\n",
      " 1   name                 50000 non-null  object\n",
      " 2   seller               50000 non-null  object\n",
      " 3   offerType            50000 non-null  object\n",
      " 4   price                50000 non-null  object\n",
      " 5   abtest               50000 non-null  object\n",
      " 6   vehicleType          44905 non-null  object\n",
      " 7   yearOfRegistration   50000 non-null  int64 \n",
      " 8   gearbox              47320 non-null  object\n",
      " 9   powerPS              50000 non-null  int64 \n",
      " 10  model                47242 non-null  object\n",
      " 11  odometer             50000 non-null  object\n",
      " 12  monthOfRegistration  50000 non-null  int64 \n",
      " 13  fuelType             45518 non-null  object\n",
      " 14  brand                50000 non-null  object\n",
      " 15  notRepairedDamage    40171 non-null  object\n",
      " 16  dateCreated          50000 non-null  object\n",
      " 17  nrOfPictures         50000 non-null  int64 \n",
      " 18  postalCode           50000 non-null  int64 \n",
      " 19  lastSeen             50000 non-null  object\n",
      "dtypes: int64(5), object(15)\n",
      "memory usage: 7.6+ MB\n"
     ]
    },
    {
     "data": {
      "text/html": [
       "<div>\n",
       "<style scoped>\n",
       "    .dataframe tbody tr th:only-of-type {\n",
       "        vertical-align: middle;\n",
       "    }\n",
       "\n",
       "    .dataframe tbody tr th {\n",
       "        vertical-align: top;\n",
       "    }\n",
       "\n",
       "    .dataframe thead th {\n",
       "        text-align: right;\n",
       "    }\n",
       "</style>\n",
       "<table border=\"1\" class=\"dataframe\">\n",
       "  <thead>\n",
       "    <tr style=\"text-align: right;\">\n",
       "      <th></th>\n",
       "      <th>dateCrawled</th>\n",
       "      <th>name</th>\n",
       "      <th>seller</th>\n",
       "      <th>offerType</th>\n",
       "      <th>price</th>\n",
       "      <th>abtest</th>\n",
       "      <th>vehicleType</th>\n",
       "      <th>yearOfRegistration</th>\n",
       "      <th>gearbox</th>\n",
       "      <th>powerPS</th>\n",
       "      <th>model</th>\n",
       "      <th>odometer</th>\n",
       "      <th>monthOfRegistration</th>\n",
       "      <th>fuelType</th>\n",
       "      <th>brand</th>\n",
       "      <th>notRepairedDamage</th>\n",
       "      <th>dateCreated</th>\n",
       "      <th>nrOfPictures</th>\n",
       "      <th>postalCode</th>\n",
       "      <th>lastSeen</th>\n",
       "    </tr>\n",
       "  </thead>\n",
       "  <tbody>\n",
       "    <tr>\n",
       "      <th>0</th>\n",
       "      <td>2016-03-26 17:47:46</td>\n",
       "      <td>Peugeot_807_160_NAVTECH_ON_BOARD</td>\n",
       "      <td>privat</td>\n",
       "      <td>Angebot</td>\n",
       "      <td>$5,000</td>\n",
       "      <td>control</td>\n",
       "      <td>bus</td>\n",
       "      <td>2004</td>\n",
       "      <td>manuell</td>\n",
       "      <td>158</td>\n",
       "      <td>andere</td>\n",
       "      <td>150,000km</td>\n",
       "      <td>3</td>\n",
       "      <td>lpg</td>\n",
       "      <td>peugeot</td>\n",
       "      <td>nein</td>\n",
       "      <td>2016-03-26 00:00:00</td>\n",
       "      <td>0</td>\n",
       "      <td>79588</td>\n",
       "      <td>2016-04-06 06:45:54</td>\n",
       "    </tr>\n",
       "    <tr>\n",
       "      <th>1</th>\n",
       "      <td>2016-04-04 13:38:56</td>\n",
       "      <td>BMW_740i_4_4_Liter_HAMANN_UMBAU_Mega_Optik</td>\n",
       "      <td>privat</td>\n",
       "      <td>Angebot</td>\n",
       "      <td>$8,500</td>\n",
       "      <td>control</td>\n",
       "      <td>limousine</td>\n",
       "      <td>1997</td>\n",
       "      <td>automatik</td>\n",
       "      <td>286</td>\n",
       "      <td>7er</td>\n",
       "      <td>150,000km</td>\n",
       "      <td>6</td>\n",
       "      <td>benzin</td>\n",
       "      <td>bmw</td>\n",
       "      <td>nein</td>\n",
       "      <td>2016-04-04 00:00:00</td>\n",
       "      <td>0</td>\n",
       "      <td>71034</td>\n",
       "      <td>2016-04-06 14:45:08</td>\n",
       "    </tr>\n",
       "    <tr>\n",
       "      <th>2</th>\n",
       "      <td>2016-03-26 18:57:24</td>\n",
       "      <td>Volkswagen_Golf_1.6_United</td>\n",
       "      <td>privat</td>\n",
       "      <td>Angebot</td>\n",
       "      <td>$8,990</td>\n",
       "      <td>test</td>\n",
       "      <td>limousine</td>\n",
       "      <td>2009</td>\n",
       "      <td>manuell</td>\n",
       "      <td>102</td>\n",
       "      <td>golf</td>\n",
       "      <td>70,000km</td>\n",
       "      <td>7</td>\n",
       "      <td>benzin</td>\n",
       "      <td>volkswagen</td>\n",
       "      <td>nein</td>\n",
       "      <td>2016-03-26 00:00:00</td>\n",
       "      <td>0</td>\n",
       "      <td>35394</td>\n",
       "      <td>2016-04-06 20:15:37</td>\n",
       "    </tr>\n",
       "    <tr>\n",
       "      <th>3</th>\n",
       "      <td>2016-03-12 16:58:10</td>\n",
       "      <td>Smart_smart_fortwo_coupe_softouch/F1/Klima/Pan...</td>\n",
       "      <td>privat</td>\n",
       "      <td>Angebot</td>\n",
       "      <td>$4,350</td>\n",
       "      <td>control</td>\n",
       "      <td>kleinwagen</td>\n",
       "      <td>2007</td>\n",
       "      <td>automatik</td>\n",
       "      <td>71</td>\n",
       "      <td>fortwo</td>\n",
       "      <td>70,000km</td>\n",
       "      <td>6</td>\n",
       "      <td>benzin</td>\n",
       "      <td>smart</td>\n",
       "      <td>nein</td>\n",
       "      <td>2016-03-12 00:00:00</td>\n",
       "      <td>0</td>\n",
       "      <td>33729</td>\n",
       "      <td>2016-03-15 03:16:28</td>\n",
       "    </tr>\n",
       "    <tr>\n",
       "      <th>4</th>\n",
       "      <td>2016-04-01 14:38:50</td>\n",
       "      <td>Ford_Focus_1_6_Benzin_TÜV_neu_ist_sehr_gepfleg...</td>\n",
       "      <td>privat</td>\n",
       "      <td>Angebot</td>\n",
       "      <td>$1,350</td>\n",
       "      <td>test</td>\n",
       "      <td>kombi</td>\n",
       "      <td>2003</td>\n",
       "      <td>manuell</td>\n",
       "      <td>0</td>\n",
       "      <td>focus</td>\n",
       "      <td>150,000km</td>\n",
       "      <td>7</td>\n",
       "      <td>benzin</td>\n",
       "      <td>ford</td>\n",
       "      <td>nein</td>\n",
       "      <td>2016-04-01 00:00:00</td>\n",
       "      <td>0</td>\n",
       "      <td>39218</td>\n",
       "      <td>2016-04-01 14:38:50</td>\n",
       "    </tr>\n",
       "    <tr>\n",
       "      <th>...</th>\n",
       "      <td>...</td>\n",
       "      <td>...</td>\n",
       "      <td>...</td>\n",
       "      <td>...</td>\n",
       "      <td>...</td>\n",
       "      <td>...</td>\n",
       "      <td>...</td>\n",
       "      <td>...</td>\n",
       "      <td>...</td>\n",
       "      <td>...</td>\n",
       "      <td>...</td>\n",
       "      <td>...</td>\n",
       "      <td>...</td>\n",
       "      <td>...</td>\n",
       "      <td>...</td>\n",
       "      <td>...</td>\n",
       "      <td>...</td>\n",
       "      <td>...</td>\n",
       "      <td>...</td>\n",
       "      <td>...</td>\n",
       "    </tr>\n",
       "    <tr>\n",
       "      <th>49995</th>\n",
       "      <td>2016-03-27 14:38:19</td>\n",
       "      <td>Audi_Q5_3.0_TDI_qu._S_tr.__Navi__Panorama__Xenon</td>\n",
       "      <td>privat</td>\n",
       "      <td>Angebot</td>\n",
       "      <td>$24,900</td>\n",
       "      <td>control</td>\n",
       "      <td>limousine</td>\n",
       "      <td>2011</td>\n",
       "      <td>automatik</td>\n",
       "      <td>239</td>\n",
       "      <td>q5</td>\n",
       "      <td>100,000km</td>\n",
       "      <td>1</td>\n",
       "      <td>diesel</td>\n",
       "      <td>audi</td>\n",
       "      <td>nein</td>\n",
       "      <td>2016-03-27 00:00:00</td>\n",
       "      <td>0</td>\n",
       "      <td>82131</td>\n",
       "      <td>2016-04-01 13:47:40</td>\n",
       "    </tr>\n",
       "    <tr>\n",
       "      <th>49996</th>\n",
       "      <td>2016-03-28 10:50:25</td>\n",
       "      <td>Opel_Astra_F_Cabrio_Bertone_Edition___TÜV_neu+...</td>\n",
       "      <td>privat</td>\n",
       "      <td>Angebot</td>\n",
       "      <td>$1,980</td>\n",
       "      <td>control</td>\n",
       "      <td>cabrio</td>\n",
       "      <td>1996</td>\n",
       "      <td>manuell</td>\n",
       "      <td>75</td>\n",
       "      <td>astra</td>\n",
       "      <td>150,000km</td>\n",
       "      <td>5</td>\n",
       "      <td>benzin</td>\n",
       "      <td>opel</td>\n",
       "      <td>nein</td>\n",
       "      <td>2016-03-28 00:00:00</td>\n",
       "      <td>0</td>\n",
       "      <td>44807</td>\n",
       "      <td>2016-04-02 14:18:02</td>\n",
       "    </tr>\n",
       "    <tr>\n",
       "      <th>49997</th>\n",
       "      <td>2016-04-02 14:44:48</td>\n",
       "      <td>Fiat_500_C_1.2_Dualogic_Lounge</td>\n",
       "      <td>privat</td>\n",
       "      <td>Angebot</td>\n",
       "      <td>$13,200</td>\n",
       "      <td>test</td>\n",
       "      <td>cabrio</td>\n",
       "      <td>2014</td>\n",
       "      <td>automatik</td>\n",
       "      <td>69</td>\n",
       "      <td>500</td>\n",
       "      <td>5,000km</td>\n",
       "      <td>11</td>\n",
       "      <td>benzin</td>\n",
       "      <td>fiat</td>\n",
       "      <td>nein</td>\n",
       "      <td>2016-04-02 00:00:00</td>\n",
       "      <td>0</td>\n",
       "      <td>73430</td>\n",
       "      <td>2016-04-04 11:47:27</td>\n",
       "    </tr>\n",
       "    <tr>\n",
       "      <th>49998</th>\n",
       "      <td>2016-03-08 19:25:42</td>\n",
       "      <td>Audi_A3_2.0_TDI_Sportback_Ambition</td>\n",
       "      <td>privat</td>\n",
       "      <td>Angebot</td>\n",
       "      <td>$22,900</td>\n",
       "      <td>control</td>\n",
       "      <td>kombi</td>\n",
       "      <td>2013</td>\n",
       "      <td>manuell</td>\n",
       "      <td>150</td>\n",
       "      <td>a3</td>\n",
       "      <td>40,000km</td>\n",
       "      <td>11</td>\n",
       "      <td>diesel</td>\n",
       "      <td>audi</td>\n",
       "      <td>nein</td>\n",
       "      <td>2016-03-08 00:00:00</td>\n",
       "      <td>0</td>\n",
       "      <td>35683</td>\n",
       "      <td>2016-04-05 16:45:07</td>\n",
       "    </tr>\n",
       "    <tr>\n",
       "      <th>49999</th>\n",
       "      <td>2016-03-14 00:42:12</td>\n",
       "      <td>Opel_Vectra_1.6_16V</td>\n",
       "      <td>privat</td>\n",
       "      <td>Angebot</td>\n",
       "      <td>$1,250</td>\n",
       "      <td>control</td>\n",
       "      <td>limousine</td>\n",
       "      <td>1996</td>\n",
       "      <td>manuell</td>\n",
       "      <td>101</td>\n",
       "      <td>vectra</td>\n",
       "      <td>150,000km</td>\n",
       "      <td>1</td>\n",
       "      <td>benzin</td>\n",
       "      <td>opel</td>\n",
       "      <td>nein</td>\n",
       "      <td>2016-03-13 00:00:00</td>\n",
       "      <td>0</td>\n",
       "      <td>45897</td>\n",
       "      <td>2016-04-06 21:18:48</td>\n",
       "    </tr>\n",
       "  </tbody>\n",
       "</table>\n",
       "<p>50000 rows × 20 columns</p>\n",
       "</div>"
      ],
      "text/plain": [
       "               dateCrawled                                               name  \\\n",
       "0      2016-03-26 17:47:46                   Peugeot_807_160_NAVTECH_ON_BOARD   \n",
       "1      2016-04-04 13:38:56         BMW_740i_4_4_Liter_HAMANN_UMBAU_Mega_Optik   \n",
       "2      2016-03-26 18:57:24                         Volkswagen_Golf_1.6_United   \n",
       "3      2016-03-12 16:58:10  Smart_smart_fortwo_coupe_softouch/F1/Klima/Pan...   \n",
       "4      2016-04-01 14:38:50  Ford_Focus_1_6_Benzin_TÜV_neu_ist_sehr_gepfleg...   \n",
       "...                    ...                                                ...   \n",
       "49995  2016-03-27 14:38:19   Audi_Q5_3.0_TDI_qu._S_tr.__Navi__Panorama__Xenon   \n",
       "49996  2016-03-28 10:50:25  Opel_Astra_F_Cabrio_Bertone_Edition___TÜV_neu+...   \n",
       "49997  2016-04-02 14:44:48                     Fiat_500_C_1.2_Dualogic_Lounge   \n",
       "49998  2016-03-08 19:25:42                 Audi_A3_2.0_TDI_Sportback_Ambition   \n",
       "49999  2016-03-14 00:42:12                                Opel_Vectra_1.6_16V   \n",
       "\n",
       "       seller offerType    price   abtest vehicleType  yearOfRegistration  \\\n",
       "0      privat   Angebot   $5,000  control         bus                2004   \n",
       "1      privat   Angebot   $8,500  control   limousine                1997   \n",
       "2      privat   Angebot   $8,990     test   limousine                2009   \n",
       "3      privat   Angebot   $4,350  control  kleinwagen                2007   \n",
       "4      privat   Angebot   $1,350     test       kombi                2003   \n",
       "...       ...       ...      ...      ...         ...                 ...   \n",
       "49995  privat   Angebot  $24,900  control   limousine                2011   \n",
       "49996  privat   Angebot   $1,980  control      cabrio                1996   \n",
       "49997  privat   Angebot  $13,200     test      cabrio                2014   \n",
       "49998  privat   Angebot  $22,900  control       kombi                2013   \n",
       "49999  privat   Angebot   $1,250  control   limousine                1996   \n",
       "\n",
       "         gearbox  powerPS   model   odometer  monthOfRegistration fuelType  \\\n",
       "0        manuell      158  andere  150,000km                    3      lpg   \n",
       "1      automatik      286     7er  150,000km                    6   benzin   \n",
       "2        manuell      102    golf   70,000km                    7   benzin   \n",
       "3      automatik       71  fortwo   70,000km                    6   benzin   \n",
       "4        manuell        0   focus  150,000km                    7   benzin   \n",
       "...          ...      ...     ...        ...                  ...      ...   \n",
       "49995  automatik      239      q5  100,000km                    1   diesel   \n",
       "49996    manuell       75   astra  150,000km                    5   benzin   \n",
       "49997  automatik       69     500    5,000km                   11   benzin   \n",
       "49998    manuell      150      a3   40,000km                   11   diesel   \n",
       "49999    manuell      101  vectra  150,000km                    1   benzin   \n",
       "\n",
       "            brand notRepairedDamage          dateCreated  nrOfPictures  \\\n",
       "0         peugeot              nein  2016-03-26 00:00:00             0   \n",
       "1             bmw              nein  2016-04-04 00:00:00             0   \n",
       "2      volkswagen              nein  2016-03-26 00:00:00             0   \n",
       "3           smart              nein  2016-03-12 00:00:00             0   \n",
       "4            ford              nein  2016-04-01 00:00:00             0   \n",
       "...           ...               ...                  ...           ...   \n",
       "49995        audi              nein  2016-03-27 00:00:00             0   \n",
       "49996        opel              nein  2016-03-28 00:00:00             0   \n",
       "49997        fiat              nein  2016-04-02 00:00:00             0   \n",
       "49998        audi              nein  2016-03-08 00:00:00             0   \n",
       "49999        opel              nein  2016-03-13 00:00:00             0   \n",
       "\n",
       "       postalCode             lastSeen  \n",
       "0           79588  2016-04-06 06:45:54  \n",
       "1           71034  2016-04-06 14:45:08  \n",
       "2           35394  2016-04-06 20:15:37  \n",
       "3           33729  2016-03-15 03:16:28  \n",
       "4           39218  2016-04-01 14:38:50  \n",
       "...           ...                  ...  \n",
       "49995       82131  2016-04-01 13:47:40  \n",
       "49996       44807  2016-04-02 14:18:02  \n",
       "49997       73430  2016-04-04 11:47:27  \n",
       "49998       35683  2016-04-05 16:45:07  \n",
       "49999       45897  2016-04-06 21:18:48  \n",
       "\n",
       "[50000 rows x 20 columns]"
      ]
     },
     "execution_count": 2,
     "metadata": {},
     "output_type": "execute_result"
    }
   ],
   "source": [
    "autos.info()\n",
    "autos"
   ]
  },
  {
   "cell_type": "markdown",
   "id": "bbb18787",
   "metadata": {},
   "source": [
    "**As we can see, only five columns have null data:**\n",
    "* vehicleType\n",
    "* gearbox\n",
    "* model\n",
    "* fuelType\n",
    "* notRepairedDamage\n",
    "\n",
    "**And five columns stored data as integers:**\n",
    "* yearOfRegistration\n",
    "* powerPS \n",
    "* monthOfRegistration\n",
    "* nrOfPictures \n",
    "* postalCode \n",
    "\n",
    "Because the column names use [camelcase](https://en.wikipedia.org/wiki/Camel_case) instead of Python's preferred [snakecase](https://en.wikipedia.org/wiki/Snake_case), which means we can't just replace spaces with underscores."
   ]
  },
  {
   "cell_type": "code",
   "execution_count": 3,
   "id": "3ccf662c",
   "metadata": {
    "scrolled": true
   },
   "outputs": [
    {
     "data": {
      "text/plain": [
       "Index(['dateCrawled', 'name', 'seller', 'offerType', 'price', 'abtest',\n",
       "       'vehicleType', 'yearOfRegistration', 'gearbox', 'powerPS', 'model',\n",
       "       'odometer', 'monthOfRegistration', 'fuelType', 'brand',\n",
       "       'notRepairedDamage', 'dateCreated', 'nrOfPictures', 'postalCode',\n",
       "       'lastSeen'],\n",
       "      dtype='object')"
      ]
     },
     "execution_count": 3,
     "metadata": {},
     "output_type": "execute_result"
    }
   ],
   "source": [
    "autos.columns"
   ]
  },
  {
   "cell_type": "markdown",
   "id": "6e592ad9",
   "metadata": {},
   "source": [
    " We need to change the name of the columns by using the `Dataframe.columns` attribute."
   ]
  },
  {
   "cell_type": "code",
   "execution_count": 4,
   "id": "8e248e5b",
   "metadata": {},
   "outputs": [],
   "source": [
    "autos.columns = [\"date_crawled\", \"name\", \"seller\", \"offer_type\", \"price\", \"ab_test\", \"vehicle_type\", \n",
    "                \"registration_year\", \"gearbox\", \"power_ps\", \"model\", \"odometer\", \"registration_month\", \"fuel_type\", \"brand\",\n",
    "                \"unrepaired_damage\", \"ad_created\", \"num_photos\", \"postal_code\", \"last_seen\"]"
   ]
  },
  {
   "cell_type": "code",
   "execution_count": 5,
   "id": "5d6879b5",
   "metadata": {},
   "outputs": [
    {
     "data": {
      "text/plain": [
       "Index(['date_crawled', 'name', 'seller', 'offer_type', 'price', 'ab_test',\n",
       "       'vehicle_type', 'registration_year', 'gearbox', 'power_ps', 'model',\n",
       "       'odometer', 'registration_month', 'fuel_type', 'brand',\n",
       "       'unrepaired_damage', 'ad_created', 'num_photos', 'postal_code',\n",
       "       'last_seen'],\n",
       "      dtype='object')"
      ]
     },
     "execution_count": 5,
     "metadata": {},
     "output_type": "execute_result"
    }
   ],
   "source": [
    "autos.columns"
   ]
  },
  {
   "cell_type": "markdown",
   "id": "7081c5d5",
   "metadata": {},
   "source": [
    "**As you can see, the columns were renamed.**\n",
    "\n",
    "Because this dataset is from a German website, maybe some columns will contain German words. We will explore and deal with it later.\n",
    "\n",
    "Now let's do some basic data exploration to determine what other cleaning tasks need to be done. Initially we will look for:\n",
    "* Text columns where all or almost all values are the same. These can often be dropped as they don't have useful information for analysis.\n",
    "* Examples of numeric data stored as text which can be cleaned and converted.\n"
   ]
  },
  {
   "cell_type": "code",
   "execution_count": 6,
   "id": "0c52f71a",
   "metadata": {},
   "outputs": [
    {
     "data": {
      "text/html": [
       "<div>\n",
       "<style scoped>\n",
       "    .dataframe tbody tr th:only-of-type {\n",
       "        vertical-align: middle;\n",
       "    }\n",
       "\n",
       "    .dataframe tbody tr th {\n",
       "        vertical-align: top;\n",
       "    }\n",
       "\n",
       "    .dataframe thead th {\n",
       "        text-align: right;\n",
       "    }\n",
       "</style>\n",
       "<table border=\"1\" class=\"dataframe\">\n",
       "  <thead>\n",
       "    <tr style=\"text-align: right;\">\n",
       "      <th></th>\n",
       "      <th>date_crawled</th>\n",
       "      <th>name</th>\n",
       "      <th>seller</th>\n",
       "      <th>offer_type</th>\n",
       "      <th>price</th>\n",
       "      <th>ab_test</th>\n",
       "      <th>vehicle_type</th>\n",
       "      <th>registration_year</th>\n",
       "      <th>gearbox</th>\n",
       "      <th>power_ps</th>\n",
       "      <th>model</th>\n",
       "      <th>odometer</th>\n",
       "      <th>registration_month</th>\n",
       "      <th>fuel_type</th>\n",
       "      <th>brand</th>\n",
       "      <th>unrepaired_damage</th>\n",
       "      <th>ad_created</th>\n",
       "      <th>num_photos</th>\n",
       "      <th>postal_code</th>\n",
       "      <th>last_seen</th>\n",
       "    </tr>\n",
       "  </thead>\n",
       "  <tbody>\n",
       "    <tr>\n",
       "      <th>count</th>\n",
       "      <td>50000</td>\n",
       "      <td>50000</td>\n",
       "      <td>50000</td>\n",
       "      <td>50000</td>\n",
       "      <td>50000</td>\n",
       "      <td>50000</td>\n",
       "      <td>44905</td>\n",
       "      <td>50000.000000</td>\n",
       "      <td>47320</td>\n",
       "      <td>50000.000000</td>\n",
       "      <td>47242</td>\n",
       "      <td>50000</td>\n",
       "      <td>50000.000000</td>\n",
       "      <td>45518</td>\n",
       "      <td>50000</td>\n",
       "      <td>40171</td>\n",
       "      <td>50000</td>\n",
       "      <td>50000.0</td>\n",
       "      <td>50000.000000</td>\n",
       "      <td>50000</td>\n",
       "    </tr>\n",
       "    <tr>\n",
       "      <th>unique</th>\n",
       "      <td>48213</td>\n",
       "      <td>38754</td>\n",
       "      <td>2</td>\n",
       "      <td>2</td>\n",
       "      <td>2357</td>\n",
       "      <td>2</td>\n",
       "      <td>8</td>\n",
       "      <td>NaN</td>\n",
       "      <td>2</td>\n",
       "      <td>NaN</td>\n",
       "      <td>245</td>\n",
       "      <td>13</td>\n",
       "      <td>NaN</td>\n",
       "      <td>7</td>\n",
       "      <td>40</td>\n",
       "      <td>2</td>\n",
       "      <td>76</td>\n",
       "      <td>NaN</td>\n",
       "      <td>NaN</td>\n",
       "      <td>39481</td>\n",
       "    </tr>\n",
       "    <tr>\n",
       "      <th>top</th>\n",
       "      <td>2016-04-02 11:37:04</td>\n",
       "      <td>Ford_Fiesta</td>\n",
       "      <td>privat</td>\n",
       "      <td>Angebot</td>\n",
       "      <td>$0</td>\n",
       "      <td>test</td>\n",
       "      <td>limousine</td>\n",
       "      <td>NaN</td>\n",
       "      <td>manuell</td>\n",
       "      <td>NaN</td>\n",
       "      <td>golf</td>\n",
       "      <td>150,000km</td>\n",
       "      <td>NaN</td>\n",
       "      <td>benzin</td>\n",
       "      <td>volkswagen</td>\n",
       "      <td>nein</td>\n",
       "      <td>2016-04-03 00:00:00</td>\n",
       "      <td>NaN</td>\n",
       "      <td>NaN</td>\n",
       "      <td>2016-04-07 06:17:27</td>\n",
       "    </tr>\n",
       "    <tr>\n",
       "      <th>freq</th>\n",
       "      <td>3</td>\n",
       "      <td>78</td>\n",
       "      <td>49999</td>\n",
       "      <td>49999</td>\n",
       "      <td>1421</td>\n",
       "      <td>25756</td>\n",
       "      <td>12859</td>\n",
       "      <td>NaN</td>\n",
       "      <td>36993</td>\n",
       "      <td>NaN</td>\n",
       "      <td>4024</td>\n",
       "      <td>32424</td>\n",
       "      <td>NaN</td>\n",
       "      <td>30107</td>\n",
       "      <td>10687</td>\n",
       "      <td>35232</td>\n",
       "      <td>1946</td>\n",
       "      <td>NaN</td>\n",
       "      <td>NaN</td>\n",
       "      <td>8</td>\n",
       "    </tr>\n",
       "    <tr>\n",
       "      <th>mean</th>\n",
       "      <td>NaN</td>\n",
       "      <td>NaN</td>\n",
       "      <td>NaN</td>\n",
       "      <td>NaN</td>\n",
       "      <td>NaN</td>\n",
       "      <td>NaN</td>\n",
       "      <td>NaN</td>\n",
       "      <td>2005.073280</td>\n",
       "      <td>NaN</td>\n",
       "      <td>116.355920</td>\n",
       "      <td>NaN</td>\n",
       "      <td>NaN</td>\n",
       "      <td>5.723360</td>\n",
       "      <td>NaN</td>\n",
       "      <td>NaN</td>\n",
       "      <td>NaN</td>\n",
       "      <td>NaN</td>\n",
       "      <td>0.0</td>\n",
       "      <td>50813.627300</td>\n",
       "      <td>NaN</td>\n",
       "    </tr>\n",
       "    <tr>\n",
       "      <th>std</th>\n",
       "      <td>NaN</td>\n",
       "      <td>NaN</td>\n",
       "      <td>NaN</td>\n",
       "      <td>NaN</td>\n",
       "      <td>NaN</td>\n",
       "      <td>NaN</td>\n",
       "      <td>NaN</td>\n",
       "      <td>105.712813</td>\n",
       "      <td>NaN</td>\n",
       "      <td>209.216627</td>\n",
       "      <td>NaN</td>\n",
       "      <td>NaN</td>\n",
       "      <td>3.711984</td>\n",
       "      <td>NaN</td>\n",
       "      <td>NaN</td>\n",
       "      <td>NaN</td>\n",
       "      <td>NaN</td>\n",
       "      <td>0.0</td>\n",
       "      <td>25779.747957</td>\n",
       "      <td>NaN</td>\n",
       "    </tr>\n",
       "    <tr>\n",
       "      <th>min</th>\n",
       "      <td>NaN</td>\n",
       "      <td>NaN</td>\n",
       "      <td>NaN</td>\n",
       "      <td>NaN</td>\n",
       "      <td>NaN</td>\n",
       "      <td>NaN</td>\n",
       "      <td>NaN</td>\n",
       "      <td>1000.000000</td>\n",
       "      <td>NaN</td>\n",
       "      <td>0.000000</td>\n",
       "      <td>NaN</td>\n",
       "      <td>NaN</td>\n",
       "      <td>0.000000</td>\n",
       "      <td>NaN</td>\n",
       "      <td>NaN</td>\n",
       "      <td>NaN</td>\n",
       "      <td>NaN</td>\n",
       "      <td>0.0</td>\n",
       "      <td>1067.000000</td>\n",
       "      <td>NaN</td>\n",
       "    </tr>\n",
       "    <tr>\n",
       "      <th>25%</th>\n",
       "      <td>NaN</td>\n",
       "      <td>NaN</td>\n",
       "      <td>NaN</td>\n",
       "      <td>NaN</td>\n",
       "      <td>NaN</td>\n",
       "      <td>NaN</td>\n",
       "      <td>NaN</td>\n",
       "      <td>1999.000000</td>\n",
       "      <td>NaN</td>\n",
       "      <td>70.000000</td>\n",
       "      <td>NaN</td>\n",
       "      <td>NaN</td>\n",
       "      <td>3.000000</td>\n",
       "      <td>NaN</td>\n",
       "      <td>NaN</td>\n",
       "      <td>NaN</td>\n",
       "      <td>NaN</td>\n",
       "      <td>0.0</td>\n",
       "      <td>30451.000000</td>\n",
       "      <td>NaN</td>\n",
       "    </tr>\n",
       "    <tr>\n",
       "      <th>50%</th>\n",
       "      <td>NaN</td>\n",
       "      <td>NaN</td>\n",
       "      <td>NaN</td>\n",
       "      <td>NaN</td>\n",
       "      <td>NaN</td>\n",
       "      <td>NaN</td>\n",
       "      <td>NaN</td>\n",
       "      <td>2003.000000</td>\n",
       "      <td>NaN</td>\n",
       "      <td>105.000000</td>\n",
       "      <td>NaN</td>\n",
       "      <td>NaN</td>\n",
       "      <td>6.000000</td>\n",
       "      <td>NaN</td>\n",
       "      <td>NaN</td>\n",
       "      <td>NaN</td>\n",
       "      <td>NaN</td>\n",
       "      <td>0.0</td>\n",
       "      <td>49577.000000</td>\n",
       "      <td>NaN</td>\n",
       "    </tr>\n",
       "    <tr>\n",
       "      <th>75%</th>\n",
       "      <td>NaN</td>\n",
       "      <td>NaN</td>\n",
       "      <td>NaN</td>\n",
       "      <td>NaN</td>\n",
       "      <td>NaN</td>\n",
       "      <td>NaN</td>\n",
       "      <td>NaN</td>\n",
       "      <td>2008.000000</td>\n",
       "      <td>NaN</td>\n",
       "      <td>150.000000</td>\n",
       "      <td>NaN</td>\n",
       "      <td>NaN</td>\n",
       "      <td>9.000000</td>\n",
       "      <td>NaN</td>\n",
       "      <td>NaN</td>\n",
       "      <td>NaN</td>\n",
       "      <td>NaN</td>\n",
       "      <td>0.0</td>\n",
       "      <td>71540.000000</td>\n",
       "      <td>NaN</td>\n",
       "    </tr>\n",
       "    <tr>\n",
       "      <th>max</th>\n",
       "      <td>NaN</td>\n",
       "      <td>NaN</td>\n",
       "      <td>NaN</td>\n",
       "      <td>NaN</td>\n",
       "      <td>NaN</td>\n",
       "      <td>NaN</td>\n",
       "      <td>NaN</td>\n",
       "      <td>9999.000000</td>\n",
       "      <td>NaN</td>\n",
       "      <td>17700.000000</td>\n",
       "      <td>NaN</td>\n",
       "      <td>NaN</td>\n",
       "      <td>12.000000</td>\n",
       "      <td>NaN</td>\n",
       "      <td>NaN</td>\n",
       "      <td>NaN</td>\n",
       "      <td>NaN</td>\n",
       "      <td>0.0</td>\n",
       "      <td>99998.000000</td>\n",
       "      <td>NaN</td>\n",
       "    </tr>\n",
       "  </tbody>\n",
       "</table>\n",
       "</div>"
      ],
      "text/plain": [
       "               date_crawled         name  seller offer_type  price ab_test  \\\n",
       "count                 50000        50000   50000      50000  50000   50000   \n",
       "unique                48213        38754       2          2   2357       2   \n",
       "top     2016-04-02 11:37:04  Ford_Fiesta  privat    Angebot     $0    test   \n",
       "freq                      3           78   49999      49999   1421   25756   \n",
       "mean                    NaN          NaN     NaN        NaN    NaN     NaN   \n",
       "std                     NaN          NaN     NaN        NaN    NaN     NaN   \n",
       "min                     NaN          NaN     NaN        NaN    NaN     NaN   \n",
       "25%                     NaN          NaN     NaN        NaN    NaN     NaN   \n",
       "50%                     NaN          NaN     NaN        NaN    NaN     NaN   \n",
       "75%                     NaN          NaN     NaN        NaN    NaN     NaN   \n",
       "max                     NaN          NaN     NaN        NaN    NaN     NaN   \n",
       "\n",
       "       vehicle_type  registration_year  gearbox      power_ps  model  \\\n",
       "count         44905       50000.000000    47320  50000.000000  47242   \n",
       "unique            8                NaN        2           NaN    245   \n",
       "top       limousine                NaN  manuell           NaN   golf   \n",
       "freq          12859                NaN    36993           NaN   4024   \n",
       "mean            NaN        2005.073280      NaN    116.355920    NaN   \n",
       "std             NaN         105.712813      NaN    209.216627    NaN   \n",
       "min             NaN        1000.000000      NaN      0.000000    NaN   \n",
       "25%             NaN        1999.000000      NaN     70.000000    NaN   \n",
       "50%             NaN        2003.000000      NaN    105.000000    NaN   \n",
       "75%             NaN        2008.000000      NaN    150.000000    NaN   \n",
       "max             NaN        9999.000000      NaN  17700.000000    NaN   \n",
       "\n",
       "         odometer  registration_month fuel_type       brand unrepaired_damage  \\\n",
       "count       50000        50000.000000     45518       50000             40171   \n",
       "unique         13                 NaN         7          40                 2   \n",
       "top     150,000km                 NaN    benzin  volkswagen              nein   \n",
       "freq        32424                 NaN     30107       10687             35232   \n",
       "mean          NaN            5.723360       NaN         NaN               NaN   \n",
       "std           NaN            3.711984       NaN         NaN               NaN   \n",
       "min           NaN            0.000000       NaN         NaN               NaN   \n",
       "25%           NaN            3.000000       NaN         NaN               NaN   \n",
       "50%           NaN            6.000000       NaN         NaN               NaN   \n",
       "75%           NaN            9.000000       NaN         NaN               NaN   \n",
       "max           NaN           12.000000       NaN         NaN               NaN   \n",
       "\n",
       "                 ad_created  num_photos   postal_code            last_seen  \n",
       "count                 50000     50000.0  50000.000000                50000  \n",
       "unique                   76         NaN           NaN                39481  \n",
       "top     2016-04-03 00:00:00         NaN           NaN  2016-04-07 06:17:27  \n",
       "freq                   1946         NaN           NaN                    8  \n",
       "mean                    NaN         0.0  50813.627300                  NaN  \n",
       "std                     NaN         0.0  25779.747957                  NaN  \n",
       "min                     NaN         0.0   1067.000000                  NaN  \n",
       "25%                     NaN         0.0  30451.000000                  NaN  \n",
       "50%                     NaN         0.0  49577.000000                  NaN  \n",
       "75%                     NaN         0.0  71540.000000                  NaN  \n",
       "max                     NaN         0.0  99998.000000                  NaN  "
      ]
     },
     "execution_count": 6,
     "metadata": {},
     "output_type": "execute_result"
    }
   ],
   "source": [
    "autos.describe(include = 'all')"
   ]
  },
  {
   "cell_type": "markdown",
   "id": "3dd1fb8b",
   "metadata": {},
   "source": [
    "The `price` and `odometer`columns are numeric values stored as text. So, for each columns: \n",
    "* We will remove any non-numeric characters.\n",
    "* Convert the columns to a numeric dtype.\n",
    "* Finally, rename the `odometer` column to `odometer_km` so it is clear what the columns's values are about.\n",
    "\n",
    "Based on the frequency of the values, we can know that the `seller`, `offer_type` and `num_photos` columns have mostly one value each. As it does not make sense to have columns like this in the dataset, we will start the cleaning process by dropping those columns."
   ]
  },
  {
   "cell_type": "markdown",
   "id": "43e9c068",
   "metadata": {},
   "source": [
    "Moving on, we can see that `price` and `odometer_km` data is stored as string because of characters such as '**,**', '**$**' and '**km**'. Follow the steps mentioned above, we will clean and convert these. "
   ]
  },
  {
   "cell_type": "code",
   "execution_count": 7,
   "id": "938dc281",
   "metadata": {},
   "outputs": [
    {
     "data": {
      "text/plain": [
       "0    5000\n",
       "1    8500\n",
       "2    8990\n",
       "3    4350\n",
       "4    1350\n",
       "Name: price, dtype: int32"
      ]
     },
     "execution_count": 7,
     "metadata": {},
     "output_type": "execute_result"
    }
   ],
   "source": [
    "autos[\"price\"] = (autos[\"price\"].str.replace(\"$\", \"\")\n",
    "                  .str.replace(\",\", \"\")\n",
    "                  .astype(int))\n",
    "autos[\"price\"].head()"
   ]
  },
  {
   "cell_type": "code",
   "execution_count": 8,
   "id": "8ee7d74d",
   "metadata": {
    "scrolled": true
   },
   "outputs": [
    {
     "data": {
      "text/plain": [
       "0    150000\n",
       "1    150000\n",
       "2     70000\n",
       "3     70000\n",
       "4    150000\n",
       "Name: odometer_km, dtype: int32"
      ]
     },
     "execution_count": 8,
     "metadata": {},
     "output_type": "execute_result"
    }
   ],
   "source": [
    "autos[\"odometer\"] = (autos[\"odometer\"].str.replace(\"km\", \"\")\n",
    "                     .str.replace(\",\", \"\")\n",
    "                     .astype(int))\n",
    "\n",
    "autos.rename({\"odometer\":\"odometer_km\"}, axis = 1, inplace = True)\n",
    "autos[\"odometer_km\"].head()"
   ]
  },
  {
   "cell_type": "markdown",
   "id": "aef6227c",
   "metadata": {},
   "source": [
    "Now let's take a closer look in these two columns, starting with `odometer_km`."
   ]
  },
  {
   "cell_type": "code",
   "execution_count": 9,
   "id": "987c80e3",
   "metadata": {},
   "outputs": [
    {
     "name": "stdout",
     "output_type": "stream",
     "text": [
      "(13,) \n",
      "\n",
      "count     50000.000000\n",
      "mean     125732.700000\n",
      "std       40042.211706\n",
      "min        5000.000000\n",
      "25%      125000.000000\n",
      "50%      150000.000000\n",
      "75%      150000.000000\n",
      "max      150000.000000\n",
      "Name: odometer_km, dtype: float64 \n",
      "\n",
      "[150000 125000 100000  90000  80000  70000  60000  50000  40000  30000\n",
      "  20000  10000   5000]\n"
     ]
    }
   ],
   "source": [
    "# check that how many unique values\n",
    "print(autos[\"odometer_km\"].unique().shape, \"\\n\")\n",
    "\n",
    "# view min/max/median/mean etc\n",
    "print(autos[\"odometer_km\"].describe(), \"\\n\")\n",
    "\n",
    "# unique value in odometer column\n",
    "uni_value_odo = autos[\"odometer_km\"].sort_values(ascending = False).unique()\n",
    "print(uni_value_odo)"
   ]
  },
  {
   "cell_type": "markdown",
   "id": "67767875",
   "metadata": {},
   "source": [
    "It looks like the values have been rounded. The highest value is 150,000 and the lowest value is 5000. This seems plausible.\n",
    "\n",
    "Next, let's check the `price` column."
   ]
  },
  {
   "cell_type": "code",
   "execution_count": 10,
   "id": "08def39c",
   "metadata": {},
   "outputs": [
    {
     "name": "stdout",
     "output_type": "stream",
     "text": [
      "(2357,) \n",
      "\n",
      "count    5.000000e+04\n",
      "mean     9.840044e+03\n",
      "std      4.811044e+05\n",
      "min      0.000000e+00\n",
      "25%      1.100000e+03\n",
      "50%      2.950000e+03\n",
      "75%      7.200000e+03\n",
      "max      1.000000e+08\n",
      "Name: price, dtype: float64 \n",
      "\n",
      "[99999999 27322222 12345678 ...        2        1        0]\n"
     ]
    }
   ],
   "source": [
    "# check that how many unique values\n",
    "print(autos[\"price\"].unique().shape, \"\\n\")\n",
    "\n",
    "# view min/max/median/mean etc\n",
    "print(autos[\"price\"].describe(), \"\\n\")\n",
    "\n",
    "# unique value in odometer column\n",
    "uni_value_price = autos[\"price\"].sort_values(ascending = False).unique()\n",
    "print(uni_value_price)"
   ]
  },
  {
   "cell_type": "markdown",
   "id": "f1e07c3c",
   "metadata": {},
   "source": [
    "The smallest value is 0 and the highest value is 99,999,999, while the second highest value is 27,322,222. The difference in value is too great, it seems that the data is not very reliable. Therefore, we need to eliminate data that is deemed unrealistic. \n",
    "\n",
    "We need data in a realistic range of values that can be analyzed on it. Let's dig deeper to see if we can find anything."
   ]
  },
  {
   "cell_type": "code",
   "execution_count": 11,
   "id": "37012fee",
   "metadata": {},
   "outputs": [
    {
     "name": "stdout",
     "output_type": "stream",
     "text": [
      "price\n",
      "99999999    1\n",
      "27322222    1\n",
      "12345678    3\n",
      "11111111    2\n",
      "10000000    1\n",
      "3890000     1\n",
      "1300000     1\n",
      "1234566     1\n",
      "999999      2\n",
      "999990      1\n",
      "350000      1\n",
      "345000      1\n",
      "299000      1\n",
      "295000      1\n",
      "265000      1\n",
      "259000      1\n",
      "250000      1\n",
      "220000      1\n",
      "198000      1\n",
      "197000      1\n",
      "Name: count, dtype: int64 \n",
      "\n",
      "price\n",
      "0     1421\n",
      "1      156\n",
      "2        3\n",
      "3        1\n",
      "5        2\n",
      "8        1\n",
      "9        1\n",
      "10       7\n",
      "11       2\n",
      "12       3\n",
      "13       2\n",
      "14       1\n",
      "15       2\n",
      "17       3\n",
      "18       1\n",
      "20       4\n",
      "25       5\n",
      "29       1\n",
      "30       7\n",
      "35       1\n",
      "Name: count, dtype: int64\n"
     ]
    }
   ],
   "source": [
    "print(autos['price'].value_counts().sort_index(ascending=False).head(20), \"\\n\")\n",
    "\n",
    "print(autos['price'].value_counts().sort_index(ascending=True).head(20))"
   ]
  },
  {
   "cell_type": "markdown",
   "id": "032ce03f",
   "metadata": {},
   "source": [
    "We now can see the data more clearly. To make the analysis as close to reality as possible, we'll exclude rows where the `price` column is above 100 and below $1,000,000."
   ]
  },
  {
   "cell_type": "code",
   "execution_count": 12,
   "id": "bc7d1618",
   "metadata": {},
   "outputs": [
    {
     "data": {
      "text/plain": [
       "count     48227.000000\n",
       "mean       5992.208099\n",
       "std       11994.952272\n",
       "min         100.000000\n",
       "25%        1250.000000\n",
       "50%        3000.000000\n",
       "75%        7499.000000\n",
       "max      999999.000000\n",
       "Name: price, dtype: float64"
      ]
     },
     "execution_count": 12,
     "metadata": {},
     "output_type": "execute_result"
    }
   ],
   "source": [
    "autos = autos[autos['price'].between(100, 1000000)]\n",
    "autos['price'].describe()"
   ]
  },
  {
   "cell_type": "markdown",
   "id": "eea16808",
   "metadata": {},
   "source": [
    "Now the data has become more realistic.\n",
    "\n",
    "**The next thing to do is remove unnecessary columns.**\n",
    "\n",
    "Before removing those columns, let's take a look into them."
   ]
  },
  {
   "cell_type": "code",
   "execution_count": 13,
   "id": "175c89fb",
   "metadata": {},
   "outputs": [
    {
     "name": "stdout",
     "output_type": "stream",
     "text": [
      "seller\n",
      "privat        48226\n",
      "gewerblich        1\n",
      "Name: count, dtype: int64 \n",
      "\n",
      "offer_type\n",
      "Angebot    48227\n",
      "Name: count, dtype: int64 \n",
      "\n",
      "num_photos\n",
      "0    48227\n",
      "Name: count, dtype: int64 \n",
      "\n"
     ]
    }
   ],
   "source": [
    "print(autos[\"seller\"].value_counts(), \"\\n\")\n",
    "print(autos[\"offer_type\"].value_counts(), \"\\n\")\n",
    "print(autos[\"num_photos\"].value_counts(), \"\\n\")"
   ]
  },
  {
   "cell_type": "markdown",
   "id": "10f98160",
   "metadata": {},
   "source": [
    "The `seller` and `offer_type` columns have a row with a value different from the others. \n",
    "\n",
    "And the `num_photos` columns only have one value.\n",
    "\n",
    "We will now drop those columns and check if the columns were actually deleted."
   ]
  },
  {
   "cell_type": "code",
   "execution_count": 14,
   "id": "7f339baf",
   "metadata": {},
   "outputs": [
    {
     "name": "stdout",
     "output_type": "stream",
     "text": [
      "(48227, 20)\n",
      "(48227, 17)\n"
     ]
    }
   ],
   "source": [
    "print(autos.shape)\n",
    "autos = autos.drop([\"seller\", \"offer_type\", \"num_photos\"], axis = 1)\n",
    "print(autos.shape)"
   ]
  },
  {
   "cell_type": "markdown",
   "id": "32b2df3f",
   "metadata": {},
   "source": [
    "Next, we will deal with the previous problem: columns containing German words. Based on what we discorvered from the dataset, we found that `gearbox`, `fuel_type` and `unrepaired_damage` are columns cotaining German words."
   ]
  },
  {
   "cell_type": "code",
   "execution_count": 15,
   "id": "4742077b",
   "metadata": {},
   "outputs": [
    {
     "name": "stdout",
     "output_type": "stream",
     "text": [
      "['manuell' 'automatik' nan] \n",
      "\n",
      "['lpg' 'benzin' 'diesel' nan 'cng' 'hybrid' 'elektro' 'andere'] \n",
      "\n",
      "['nein' nan 'ja'] \n",
      "\n"
     ]
    }
   ],
   "source": [
    "print(autos[\"gearbox\"].unique(), \"\\n\")\n",
    "print(autos[\"fuel_type\"].unique(), \"\\n\")\n",
    "print(autos[\"unrepaired_damage\"].unique(), \"\\n\")"
   ]
  },
  {
   "cell_type": "markdown",
   "id": "9521373d",
   "metadata": {},
   "source": [
    "We need to translate these words to English, and then replace it to our dataset.\n",
    "\n",
    "We will do it in the following steps:\n",
    "* We create a dictionary for each column, where German words are the keys, and English words are the values.\n",
    "* After that, we'll use the `Series.map` to replace the German words for the English words in each column for the whole dataset. "
   ]
  },
  {
   "cell_type": "code",
   "execution_count": 16,
   "id": "115a6e0c",
   "metadata": {},
   "outputs": [],
   "source": [
    "dict_gearbox = {'manuell' : 'manually', 'automatik' : 'automatic'}\n",
    "dict_fuel_type = {'lpg' : 'lpg', 'benzin' : 'gasoline', 'diesel' : 'diesel', 'cng' : 'cng', \n",
    "                'hybrid' : 'hybrid', 'elektro' : 'elektro', 'andere' : 'other'}\n",
    "dict_unrepaired_dmg = {'nein' : 'no', 'ja': 'yes'}\n",
    "\n",
    "autos[\"gearbox\"] = autos[\"gearbox\"].map(dict_gearbox)\n",
    "autos[\"fuel_type\"] = autos[\"fuel_type\"].map(dict_fuel_type)\n",
    "autos[\"unrepaired_damage\"] = autos[\"unrepaired_damage\"].map(dict_unrepaired_dmg)"
   ]
  },
  {
   "cell_type": "markdown",
   "id": "4adc5137",
   "metadata": {},
   "source": [
    "Check if the columns' data has been replaced. "
   ]
  },
  {
   "cell_type": "code",
   "execution_count": 17,
   "id": "dac6e911",
   "metadata": {},
   "outputs": [
    {
     "name": "stdout",
     "output_type": "stream",
     "text": [
      "     gearbox fuel_type unrepaired_damage\n",
      "1  automatic  gasoline                no\n",
      "2   manually  gasoline                no\n",
      "3  automatic  gasoline                no\n",
      "4   manually  gasoline                no\n",
      "5  automatic    diesel               NaN\n"
     ]
    }
   ],
   "source": [
    "print(autos.loc[1:5, [\"gearbox\", \"fuel_type\", \"unrepaired_damage\"]])"
   ]
  },
  {
   "cell_type": "markdown",
   "id": "8df6f2b8",
   "metadata": {},
   "source": [
    "The problem has been resolved.\n",
    "\n",
    "Let's now move on to the date columns. There are 5 columns that should represent date values: \n",
    "* `date_crawled`\n",
    "* `ad_created`\n",
    "* `last_seen`\n",
    "* `registration_year`\n",
    "* `registration_month`\n",
    "\n",
    "The first 10 characters represent the day (e.g 2016-03-12), so to understand the date range, we can extract just the date values, using `Series.value_counts()` to generate a distribution, and then sort by the index. \n",
    "\n",
    "The last two are already stored as integer once they represent only years and months. The first three, however, are stored as string.\n",
    "\n",
    "Therefore, we will use the method mentioned above to caculate the distribution of values in the `date_crwaled`, `ad_created`ad `last_seen` columns."
   ]
  },
  {
   "cell_type": "code",
   "execution_count": 18,
   "id": "9cb23856",
   "metadata": {},
   "outputs": [
    {
     "name": "stdout",
     "output_type": "stream",
     "text": [
      "date_crawled\n",
      "2016-03-05    0.025359\n",
      "2016-03-06    0.014038\n",
      "2016-03-07    0.036059\n",
      "2016-03-08    0.033176\n",
      "2016-03-09    0.033011\n",
      "2016-03-10    0.032285\n",
      "2016-03-11    0.032596\n",
      "2016-03-12    0.036909\n",
      "2016-03-13    0.015676\n",
      "2016-03-14    0.036660\n",
      "2016-03-15    0.034317\n",
      "2016-03-16    0.029465\n",
      "2016-03-17    0.031518\n",
      "2016-03-18    0.012897\n",
      "2016-03-19    0.034732\n",
      "2016-03-20    0.037800\n",
      "2016-03-21    0.037220\n",
      "2016-03-22    0.032886\n",
      "2016-03-23    0.032285\n",
      "2016-03-24    0.029444\n",
      "2016-03-25    0.031497\n",
      "2016-03-26    0.032306\n",
      "2016-03-27    0.031124\n",
      "2016-03-28    0.034960\n",
      "2016-03-29    0.034130\n",
      "2016-03-30    0.033736\n",
      "2016-03-31    0.031849\n",
      "2016-04-01    0.033695\n",
      "2016-04-02    0.035602\n",
      "2016-04-03    0.038609\n",
      "2016-04-04    0.036536\n",
      "2016-04-05    0.013063\n",
      "2016-04-06    0.003172\n",
      "2016-04-07    0.001389\n",
      "Name: proportion, dtype: float64\n"
     ]
    }
   ],
   "source": [
    "print(autos[\"date_crawled\"].str[:10].value_counts(normalize = True, dropna = False)\n",
    "                                    .sort_index())"
   ]
  },
  {
   "cell_type": "markdown",
   "id": "8ea5a955",
   "metadata": {},
   "source": [
    "Data was crawled almost daily between early March and early April 2016."
   ]
  },
  {
   "cell_type": "code",
   "execution_count": 19,
   "id": "693d216a",
   "metadata": {
    "scrolled": false
   },
   "outputs": [
    {
     "name": "stdout",
     "output_type": "stream",
     "text": [
      "ad_created\n",
      "2015-06-11    0.000021\n",
      "2015-08-10    0.000021\n",
      "2015-09-09    0.000021\n",
      "2015-11-10    0.000021\n",
      "2015-12-05    0.000021\n",
      "                ...   \n",
      "2016-04-03    0.038858\n",
      "2016-04-04    0.036888\n",
      "2016-04-05    0.011798\n",
      "2016-04-06    0.003255\n",
      "2016-04-07    0.001244\n",
      "Name: proportion, Length: 76, dtype: float64\n"
     ]
    }
   ],
   "source": [
    "print(autos[\"ad_created\"].str[:10].value_counts(normalize = True, dropna = False)\n",
    "                         .sort_index())"
   ]
  },
  {
   "cell_type": "code",
   "execution_count": 20,
   "id": "4d1579ab",
   "metadata": {
    "scrolled": true
   },
   "outputs": [
    {
     "name": "stdout",
     "output_type": "stream",
     "text": [
      "last_seen\n",
      "2016-03-05    0.001078\n",
      "2016-03-06    0.004313\n",
      "2016-03-07    0.005433\n",
      "2016-03-08    0.007320\n",
      "2016-03-09    0.009580\n",
      "2016-03-10    0.010637\n",
      "2016-03-11    0.012400\n",
      "2016-03-12    0.023783\n",
      "2016-03-13    0.008875\n",
      "2016-03-14    0.012628\n",
      "2016-03-15    0.015862\n",
      "2016-03-16    0.016443\n",
      "2016-03-17    0.028096\n",
      "2016-03-18    0.007320\n",
      "2016-03-19    0.015759\n",
      "2016-03-20    0.020652\n",
      "2016-03-21    0.020549\n",
      "2016-03-22    0.021357\n",
      "2016-03-23    0.018579\n",
      "2016-03-24    0.019761\n",
      "2016-03-25    0.019097\n",
      "2016-03-26    0.016671\n",
      "2016-03-27    0.015551\n",
      "2016-03-28    0.020860\n",
      "2016-03-29    0.022311\n",
      "2016-03-30    0.024696\n",
      "2016-03-31    0.023825\n",
      "2016-04-01    0.022850\n",
      "2016-04-02    0.024882\n",
      "2016-04-03    0.025131\n",
      "2016-04-04    0.024530\n",
      "2016-04-05    0.125054\n",
      "2016-04-06    0.221971\n",
      "2016-04-07    0.132146\n",
      "Name: proportion, dtype: float64\n"
     ]
    }
   ],
   "source": [
    "print(autos[\"last_seen\"].str[:10].value_counts(normalize = True, dropna = False)\n",
    "                         .sort_index())"
   ]
  },
  {
   "cell_type": "markdown",
   "id": "099cd73e",
   "metadata": {},
   "source": [
    "Next, we will use `Series.describe()` to understand the distribution of `registrtion_year`. "
   ]
  },
  {
   "cell_type": "code",
   "execution_count": 21,
   "id": "8850b726",
   "metadata": {},
   "outputs": [
    {
     "data": {
      "text/plain": [
       "count    48227.000000\n",
       "mean      2004.730151\n",
       "std         87.894768\n",
       "min       1000.000000\n",
       "25%       1999.000000\n",
       "50%       2004.000000\n",
       "75%       2008.000000\n",
       "max       9999.000000\n",
       "Name: registration_year, dtype: float64"
      ]
     },
     "execution_count": 21,
     "metadata": {},
     "output_type": "execute_result"
    }
   ],
   "source": [
    "autos[\"registration_year\"].describe()"
   ]
  },
  {
   "cell_type": "markdown",
   "id": "90ad231f",
   "metadata": {},
   "source": [
    "The minimum value is 1000 and the maximum value is 9999. That does not make sense. We'll dig deeper into this column's data to see if we can find anything better."
   ]
  },
  {
   "cell_type": "code",
   "execution_count": 22,
   "id": "fcc654b9",
   "metadata": {},
   "outputs": [
    {
     "name": "stdout",
     "output_type": "stream",
     "text": [
      "registration_year\n",
      "1000    1\n",
      "1001    1\n",
      "1111    1\n",
      "1800    2\n",
      "1910    2\n",
      "1927    1\n",
      "1929    1\n",
      "1931    1\n",
      "1934    2\n",
      "1937    4\n",
      "1938    1\n",
      "1939    1\n",
      "1941    2\n",
      "1943    1\n",
      "1948    1\n",
      "1950    1\n",
      "1951    2\n",
      "1952    1\n",
      "1953    1\n",
      "1954    2\n",
      "Name: count, dtype: int64\n",
      "\n",
      "\n",
      "registration_year\n",
      "2010    1587\n",
      "2011    1618\n",
      "2012    1308\n",
      "2013     801\n",
      "2014     662\n",
      "2015     380\n",
      "2016    1202\n",
      "2017    1383\n",
      "2018     468\n",
      "2019       2\n",
      "2800       1\n",
      "4100       1\n",
      "4500       1\n",
      "4800       1\n",
      "5000       3\n",
      "5911       1\n",
      "6200       1\n",
      "8888       1\n",
      "9000       1\n",
      "9999       3\n",
      "Name: count, dtype: int64\n"
     ]
    }
   ],
   "source": [
    "print(autos[\"registration_year\"].value_counts().sort_index().head(20))\n",
    "print(\"\\n\")\n",
    "print(autos[\"registration_year\"].value_counts().sort_index().tail(20))"
   ]
  },
  {
   "cell_type": "markdown",
   "id": "9180e20d",
   "metadata": {},
   "source": [
    "Some value seems unrealistic, e.g 1000, 1001, 1111. And some value perhaps in the future. This can make analysis difficult, so we need to filter out unnecessary values and unrealistic values.\n",
    "\n",
    "Based on the original data, we can choose an acceptable threshold from the early 1900s to 2016, because this is the year the data was crawled, so we cannot accept years greater than 2016. \n",
    "\n",
    "We will delete rows where the `registration_year` columns represents a year before 1900 or after 2016 using `Series.between`."
   ]
  },
  {
   "cell_type": "code",
   "execution_count": 23,
   "id": "b3d6ae67",
   "metadata": {},
   "outputs": [
    {
     "data": {
      "text/plain": [
       "count    46355.000000\n",
       "mean      2002.939057\n",
       "std          7.128186\n",
       "min       1910.000000\n",
       "25%       1999.000000\n",
       "50%       2003.000000\n",
       "75%       2008.000000\n",
       "max       2016.000000\n",
       "Name: registration_year, dtype: float64"
      ]
     },
     "execution_count": 23,
     "metadata": {},
     "output_type": "execute_result"
    }
   ],
   "source": [
    "autos = autos[autos[\"registration_year\"].between(1900, 2016)]\n",
    "autos[\"registration_year\"].describe()"
   ]
  },
  {
   "cell_type": "markdown",
   "id": "c61fcf1e",
   "metadata": {},
   "source": [
    "The data is now clear and ready for analysis.\n",
    "\n",
    "Next step, we will exploring `price` by `brand` to see which brand has the most expensive average price. "
   ]
  },
  {
   "cell_type": "code",
   "execution_count": 24,
   "id": "0c5359ab",
   "metadata": {},
   "outputs": [
    {
     "data": {
      "text/plain": [
       "brand\n",
       "porsche           46788.444444\n",
       "land_rover        19108.091837\n",
       "sonstige_autos    12784.556561\n",
       "jaguar            11961.563380\n",
       "jeep              11650.500000\n",
       "mini              10639.450980\n",
       "audi               9380.718548\n",
       "mercedes_benz      8672.654241\n",
       "bmw                8381.677306\n",
       "chevrolet          6759.885932\n",
       "skoda              6409.609724\n",
       "kia                6018.442073\n",
       "dacia              5915.528455\n",
       "volkswagen         5639.900316\n",
       "hyundai            5411.075431\n",
       "toyota             5167.091062\n",
       "volvo              4993.208038\n",
       "nissan             4756.659634\n",
       "seat               4433.419622\n",
       "mazda              4129.774788\n",
       "suzuki             4126.341818\n",
       "honda              4119.109589\n",
       "alfa_romeo         4100.915858\n",
       "ford               4086.934219\n",
       "subaru             4033.755102\n",
       "citroen            3796.262673\n",
       "smart              3596.402736\n",
       "chrysler           3486.576687\n",
       "lancia             3444.877551\n",
       "mitsubishi         3439.102902\n",
       "saab               3211.649351\n",
       "peugeot            3113.860549\n",
       "opel               3005.496077\n",
       "fiat               2836.873631\n",
       "lada               2688.296296\n",
       "renault            2496.070577\n",
       "trabant            1846.523810\n",
       "daihatsu           1649.655172\n",
       "rover              1602.290323\n",
       "daewoo             1064.057971\n",
       "Name: price, dtype: float64"
      ]
     },
     "execution_count": 24,
     "metadata": {},
     "output_type": "execute_result"
    }
   ],
   "source": [
    "autos.groupby(\"brand\").price.mean().sort_values(ascending = False)"
   ]
  },
  {
   "cell_type": "markdown",
   "id": "376c6aae",
   "metadata": {},
   "source": [
    "Based on the above analysis, we can see that Porsche is the most expensive brand, followed by Land Rover.\n",
    "\n",
    "Let's put it on a chart and see how it shows up."
   ]
  },
  {
   "cell_type": "code",
   "execution_count": 25,
   "id": "6c242ca5",
   "metadata": {},
   "outputs": [
    {
     "data": {
      "text/plain": [
       "<Axes: xlabel='brand'>"
      ]
     },
     "execution_count": 25,
     "metadata": {},
     "output_type": "execute_result"
    },
    {
     "data": {
      "image/png": "[encoded data removed]",
      "text/plain": [
       "<Figure size 640x480 with 1 Axes>"
      ]
     },
     "metadata": {},
     "output_type": "display_data"
    }
   ],
   "source": [
    "autos.groupby(\"brand\").price.mean().plot.bar()"
   ]
  },
  {
   "cell_type": "markdown",
   "id": "6d0edd60",
   "metadata": {},
   "source": [
    "Now we can say that Porsche is the most expensive car brand you can know.\n",
    "\n",
    "Likewise, we will continue to find out which car brands are the most popular with consumers."
   ]
  },
  {
   "cell_type": "code",
   "execution_count": 26,
   "id": "7f4ad909",
   "metadata": {},
   "outputs": [
    {
     "name": "stdout",
     "output_type": "stream",
     "text": [
      "brand\n",
      "volkswagen        0.211434\n",
      "bmw               0.110172\n",
      "opel              0.107238\n",
      "mercedes_benz     0.096645\n",
      "audi              0.086765\n",
      "ford              0.069852\n",
      "renault           0.047072\n",
      "peugeot           0.029857\n",
      "fiat              0.025607\n",
      "seat              0.018250\n",
      "skoda             0.016417\n",
      "nissan            0.015338\n",
      "mazda             0.015230\n",
      "smart             0.014195\n",
      "citroen           0.014044\n",
      "toyota            0.012793\n",
      "hyundai           0.010010\n",
      "sonstige_autos    0.009535\n",
      "volvo             0.009125\n",
      "mini              0.008802\n",
      "mitsubishi        0.008176\n",
      "honda             0.007874\n",
      "kia               0.007076\n",
      "alfa_romeo        0.006666\n",
      "porsche           0.006019\n",
      "suzuki            0.005932\n",
      "chevrolet         0.005674\n",
      "chrysler          0.003516\n",
      "dacia             0.002653\n",
      "daihatsu          0.002502\n",
      "jeep              0.002287\n",
      "land_rover        0.002114\n",
      "subaru            0.002114\n",
      "saab              0.001661\n",
      "jaguar            0.001532\n",
      "daewoo            0.001489\n",
      "trabant           0.001359\n",
      "rover             0.001338\n",
      "lancia            0.001057\n",
      "lada              0.000582\n",
      "Name: proportion, dtype: float64\n"
     ]
    }
   ],
   "source": [
    "print(autos[\"brand\"].value_counts(normalize=True))"
   ]
  },
  {
   "cell_type": "markdown",
   "id": "6067d541",
   "metadata": {},
   "source": [
    "Volkswagen is the most popular brand in this data set, followed by BMW. The number of Volkswagen cars is more than half that of BMW.\n",
    "\n",
    "Another interesting thing is that 4 out of the 5 leading car manufacturers here are German, which makes perfect sense since this dataset comes from a German website.\n",
    "\n",
    "Let's put it on the chart."
   ]
  },
  {
   "cell_type": "code",
   "execution_count": 27,
   "id": "5653243b",
   "metadata": {},
   "outputs": [
    {
     "data": {
      "text/plain": [
       "<Axes: xlabel='brand'>"
      ]
     },
     "execution_count": 27,
     "metadata": {},
     "output_type": "execute_result"
    },
    {
     "data": {
      "image/png": "[encoded data removed]",
      "text/plain": [
       "<Figure size 640x480 with 1 Axes>"
      ]
     },
     "metadata": {},
     "output_type": "display_data"
    }
   ],
   "source": [
    "autos[\"brand\"].value_counts(normalize=True).plot.bar()"
   ]
  },
  {
   "cell_type": "markdown",
   "id": "887da924",
   "metadata": {},
   "source": [
    "There are lots of brands that don't have a significant percentage of listings, so we will limit our analysis to brands representing more than 5% of total listings."
   ]
  },
  {
   "cell_type": "code",
   "execution_count": 28,
   "id": "dd39545f",
   "metadata": {},
   "outputs": [
    {
     "name": "stdout",
     "output_type": "stream",
     "text": [
      "Index(['volkswagen', 'bmw', 'opel', 'mercedes_benz', 'audi', 'ford'], dtype='object', name='brand')\n"
     ]
    }
   ],
   "source": [
    "brand_counts = autos[\"brand\"].value_counts(normalize=True)\n",
    "popular_brands = brand_counts[brand_counts > 0.05].index\n",
    "\n",
    "print(popular_brands)"
   ]
  },
  {
   "cell_type": "markdown",
   "id": "17d565be",
   "metadata": {},
   "source": [
    "Now we'll loop through the most popular brands and store the average price for each one in a dicionary. The dictionary's keys are the names of the brands and its values are the average price for that brand."
   ]
  },
  {
   "cell_type": "code",
   "execution_count": 29,
   "id": "6c31a00f",
   "metadata": {},
   "outputs": [
    {
     "name": "stdout",
     "output_type": "stream",
     "text": [
      "audi : 9380.72\n",
      "mercedes_benz : 8672.65\n",
      "bmw : 8381.68\n",
      "volkswagen : 5639.9\n",
      "ford : 4086.93\n",
      "opel : 3005.5\n"
     ]
    }
   ],
   "source": [
    "pop_brand_mean_prices = {}\n",
    "\n",
    "def display_table(table):   \n",
    "    table_display = []\n",
    "    for key in table:\n",
    "        key_tuple = (table[key], key)\n",
    "        table_display.append(key_tuple)\n",
    "    table_sorted = sorted(table_display, reverse=True)\n",
    "    for tuple in table_sorted:\n",
    "        print(tuple[1], ':', tuple[0])\n",
    "\n",
    "for brands in popular_brands:\n",
    "    brand = autos[autos['brand'] == brands]\n",
    "    mean_price = brand['price'].mean()\n",
    "    pop_brand_mean_prices[brands] = round(mean_price, 2)\n",
    "    \n",
    "display_table(pop_brand_mean_prices)"
   ]
  },
  {
   "cell_type": "markdown",
   "id": "7551e2a4",
   "metadata": {},
   "source": [
    "The most popular brand, Audi is the most expensive one and Opel is the least expensive one.\n",
    "\n",
    "We'll repeat the process to check on the average mileage for the most popular brands."
   ]
  },
  {
   "cell_type": "code",
   "execution_count": 30,
   "id": "4a6233e6",
   "metadata": {},
   "outputs": [
    {
     "name": "stdout",
     "output_type": "stream",
     "text": [
      "bmw : 132695.32\n",
      "mercedes_benz : 131025.67\n",
      "opel : 129384.43\n",
      "audi : 129245.4\n",
      "volkswagen : 128804.2\n",
      "ford : 124277.33\n"
     ]
    }
   ],
   "source": [
    "pop_brand_mean_mileage = {}\n",
    "\n",
    "for brands in popular_brands:\n",
    "    brand = autos[autos['brand'] == brands]\n",
    "    mean_mileage = brand['odometer_km'].mean()\n",
    "    pop_brand_mean_mileage[brands] = round(mean_mileage, 2)\n",
    "\n",
    "display_table(pop_brand_mean_mileage)"
   ]
  },
  {
   "cell_type": "markdown",
   "id": "e07e2f47",
   "metadata": {},
   "source": [
    "BMW has the highest mileage average while Ford has the lowest\\.\n",
    "\n",
    "Now let's aggregate these informations into a new DataFrame so it is easier to visualize and compare the brands."
   ]
  },
  {
   "cell_type": "code",
   "execution_count": 31,
   "id": "3b44a268",
   "metadata": {},
   "outputs": [],
   "source": [
    "s_price = pd.Series(pop_brand_mean_prices)\n",
    "s_mileage = pd.Series(pop_brand_mean_mileage)"
   ]
  },
  {
   "cell_type": "markdown",
   "id": "dcc59ac3",
   "metadata": {},
   "source": [
    "Finally, we convert the first serie into a DataFrame and add the second serie as a column to this new Dataframe that will then be displayed."
   ]
  },
  {
   "cell_type": "code",
   "execution_count": 32,
   "id": "7ba49205",
   "metadata": {},
   "outputs": [
    {
     "data": {
      "text/html": [
       "<div>\n",
       "<style scoped>\n",
       "    .dataframe tbody tr th:only-of-type {\n",
       "        vertical-align: middle;\n",
       "    }\n",
       "\n",
       "    .dataframe tbody tr th {\n",
       "        vertical-align: top;\n",
       "    }\n",
       "\n",
       "    .dataframe thead th {\n",
       "        text-align: right;\n",
       "    }\n",
       "</style>\n",
       "<table border=\"1\" class=\"dataframe\">\n",
       "  <thead>\n",
       "    <tr style=\"text-align: right;\">\n",
       "      <th></th>\n",
       "      <th>mean_price</th>\n",
       "      <th>mean_mileage</th>\n",
       "    </tr>\n",
       "  </thead>\n",
       "  <tbody>\n",
       "    <tr>\n",
       "      <th>volkswagen</th>\n",
       "      <td>5639.90</td>\n",
       "      <td>128804.20</td>\n",
       "    </tr>\n",
       "    <tr>\n",
       "      <th>bmw</th>\n",
       "      <td>8381.68</td>\n",
       "      <td>132695.32</td>\n",
       "    </tr>\n",
       "    <tr>\n",
       "      <th>opel</th>\n",
       "      <td>3005.50</td>\n",
       "      <td>129384.43</td>\n",
       "    </tr>\n",
       "    <tr>\n",
       "      <th>mercedes_benz</th>\n",
       "      <td>8672.65</td>\n",
       "      <td>131025.67</td>\n",
       "    </tr>\n",
       "    <tr>\n",
       "      <th>audi</th>\n",
       "      <td>9380.72</td>\n",
       "      <td>129245.40</td>\n",
       "    </tr>\n",
       "    <tr>\n",
       "      <th>ford</th>\n",
       "      <td>4086.93</td>\n",
       "      <td>124277.33</td>\n",
       "    </tr>\n",
       "  </tbody>\n",
       "</table>\n",
       "</div>"
      ],
      "text/plain": [
       "               mean_price  mean_mileage\n",
       "volkswagen        5639.90     128804.20\n",
       "bmw               8381.68     132695.32\n",
       "opel              3005.50     129384.43\n",
       "mercedes_benz     8672.65     131025.67\n",
       "audi              9380.72     129245.40\n",
       "ford              4086.93     124277.33"
      ]
     },
     "execution_count": 32,
     "metadata": {},
     "output_type": "execute_result"
    }
   ],
   "source": [
    "price_mileage = pd.DataFrame(s_price, columns=['mean_price'])\n",
    "price_mileage['mean_mileage'] = s_mileage\n",
    "price_mileage"
   ]
  },
  {
   "cell_type": "markdown",
   "id": "a0fba2ac",
   "metadata": {},
   "source": [
    "## CONCLUSION\n",
    "\n",
    "This project aimed to clean the dataset and then perform some analysis. Because I am a newbie, there will still be mistakes in the project. I am very happy and grateful if everyone has comments to contribute to the project. Thank you everyone for reading this far."
   ]
  }
 ],
 "metadata": {
  "kernelspec": {
   "display_name": "Python 3 (ipykernel)",
   "language": "python",
   "name": "python3"
  },
  "language_info": {
   "codemirror_mode": {
    "name": "ipython",
    "version": 3
   },
   "file_extension": ".py",
   "mimetype": "text/x-python",
   "name": "python",
   "nbconvert_exporter": "python",
   "pygments_lexer": "ipython3",
   "version": "3.11.5"
  }
 },
 "nbformat": 4,
 "nbformat_minor": 5
}
